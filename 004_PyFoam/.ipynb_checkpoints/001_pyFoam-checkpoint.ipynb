{
 "cells": [
  {
   "cell_type": "markdown",
   "id": "81b6a1e7-dba9-4363-9f31-c285241129ec",
   "metadata": {},
   "source": [
    "# OpenFOAMのファイルの書き換え"
   ]
  },
  {
   "cell_type": "markdown",
   "id": "4ddd73ce-301e-4403-9b82-fcad48099124",
   "metadata": {},
   "source": [
    "必要なライブラリのインポート"
   ]
  },
  {
   "cell_type": "code",
   "execution_count": 1,
   "id": "08a84cd0-0541-4bc3-b9ec-f4581eff65cf",
   "metadata": {
    "tags": []
   },
   "outputs": [],
   "source": [
    "from PyFoam.RunDictionary.ParsedParameterFile import ParsedParameterFile"
   ]
  },
  {
   "cell_type": "markdown",
   "id": "a2fa250d-fd26-419e-9bea-bf6ed5ee1c6a",
   "metadata": {},
   "source": [
    "どのような引数を取るのかを確認するには?を後ろにつけます。\n",
    "\n",
    "そのオブジェクトや関数、クラスに関するヘルプ情報を表示することができます。\n",
    "\n",
    "具体的には、そのオブジェクトがどのようなものであるか、どのようなメソッドや属性を持っているか、どんなドキュメントがあるかを調べるのに使います。"
   ]
  },
  {
   "cell_type": "code",
   "execution_count": 2,
   "id": "d19d9d2f-8f4c-4459-8dd7-17919fc875ca",
   "metadata": {
    "tags": []
   },
   "outputs": [
    {
     "data": {
      "text/plain": [
       "\u001b[0;31mInit signature:\u001b[0m\n",
       "\u001b[0mParsedParameterFile\u001b[0m\u001b[0;34m(\u001b[0m\u001b[0;34m\u001b[0m\n",
       "\u001b[0;34m\u001b[0m    \u001b[0mname\u001b[0m\u001b[0;34m,\u001b[0m\u001b[0;34m\u001b[0m\n",
       "\u001b[0;34m\u001b[0m    \u001b[0mbackup\u001b[0m\u001b[0;34m=\u001b[0m\u001b[0;32mFalse\u001b[0m\u001b[0;34m,\u001b[0m\u001b[0;34m\u001b[0m\n",
       "\u001b[0;34m\u001b[0m    \u001b[0mdebug\u001b[0m\u001b[0;34m=\u001b[0m\u001b[0;32mFalse\u001b[0m\u001b[0;34m,\u001b[0m\u001b[0;34m\u001b[0m\n",
       "\u001b[0;34m\u001b[0m    \u001b[0mboundaryDict\u001b[0m\u001b[0;34m=\u001b[0m\u001b[0;32mFalse\u001b[0m\u001b[0;34m,\u001b[0m\u001b[0;34m\u001b[0m\n",
       "\u001b[0;34m\u001b[0m    \u001b[0mlistDict\u001b[0m\u001b[0;34m=\u001b[0m\u001b[0;32mFalse\u001b[0m\u001b[0;34m,\u001b[0m\u001b[0;34m\u001b[0m\n",
       "\u001b[0;34m\u001b[0m    \u001b[0mlistDictWithHeader\u001b[0m\u001b[0;34m=\u001b[0m\u001b[0;32mFalse\u001b[0m\u001b[0;34m,\u001b[0m\u001b[0;34m\u001b[0m\n",
       "\u001b[0;34m\u001b[0m    \u001b[0mlistLengthUnparsed\u001b[0m\u001b[0;34m=\u001b[0m\u001b[0;32mNone\u001b[0m\u001b[0;34m,\u001b[0m\u001b[0;34m\u001b[0m\n",
       "\u001b[0;34m\u001b[0m    \u001b[0mpreserveComments\u001b[0m\u001b[0;34m=\u001b[0m\u001b[0;32mTrue\u001b[0m\u001b[0;34m,\u001b[0m\u001b[0;34m\u001b[0m\n",
       "\u001b[0;34m\u001b[0m    \u001b[0mnoHeader\u001b[0m\u001b[0;34m=\u001b[0m\u001b[0;32mFalse\u001b[0m\u001b[0;34m,\u001b[0m\u001b[0;34m\u001b[0m\n",
       "\u001b[0;34m\u001b[0m    \u001b[0mbinaryMode\u001b[0m\u001b[0;34m=\u001b[0m\u001b[0;32mFalse\u001b[0m\u001b[0;34m,\u001b[0m\u001b[0;34m\u001b[0m\n",
       "\u001b[0;34m\u001b[0m    \u001b[0mtreatBinaryAsASCII\u001b[0m\u001b[0;34m=\u001b[0m\u001b[0;32mFalse\u001b[0m\u001b[0;34m,\u001b[0m\u001b[0;34m\u001b[0m\n",
       "\u001b[0;34m\u001b[0m    \u001b[0mnoBody\u001b[0m\u001b[0;34m=\u001b[0m\u001b[0;32mFalse\u001b[0m\u001b[0;34m,\u001b[0m\u001b[0;34m\u001b[0m\n",
       "\u001b[0;34m\u001b[0m    \u001b[0mdoMacroExpansion\u001b[0m\u001b[0;34m=\u001b[0m\u001b[0;32mFalse\u001b[0m\u001b[0;34m,\u001b[0m\u001b[0;34m\u001b[0m\n",
       "\u001b[0;34m\u001b[0m    \u001b[0mdontRead\u001b[0m\u001b[0;34m=\u001b[0m\u001b[0;32mFalse\u001b[0m\u001b[0;34m,\u001b[0m\u001b[0;34m\u001b[0m\n",
       "\u001b[0;34m\u001b[0m    \u001b[0mnoVectorOrTensor\u001b[0m\u001b[0;34m=\u001b[0m\u001b[0;32mFalse\u001b[0m\u001b[0;34m,\u001b[0m\u001b[0;34m\u001b[0m\n",
       "\u001b[0;34m\u001b[0m    \u001b[0mdictStack\u001b[0m\u001b[0;34m=\u001b[0m\u001b[0;32mNone\u001b[0m\u001b[0;34m,\u001b[0m\u001b[0;34m\u001b[0m\n",
       "\u001b[0;34m\u001b[0m    \u001b[0mcreateZipped\u001b[0m\u001b[0;34m=\u001b[0m\u001b[0;32mTrue\u001b[0m\u001b[0;34m,\u001b[0m\u001b[0;34m\u001b[0m\n",
       "\u001b[0;34m\u001b[0m    \u001b[0mlongListOutputThreshold\u001b[0m\u001b[0;34m=\u001b[0m\u001b[0;36m20\u001b[0m\u001b[0;34m,\u001b[0m\u001b[0;34m\u001b[0m\n",
       "\u001b[0;34m\u001b[0m\u001b[0;34m)\u001b[0m\u001b[0;34m\u001b[0m\u001b[0;34m\u001b[0m\u001b[0m\n",
       "\u001b[0;31mDocstring:\u001b[0m     \n",
       "Parameterfile whose complete representation is read into\n",
       "memory, can be manipulated and afterwards written to disk\n",
       "\u001b[0;31mInit docstring:\u001b[0m\n",
       ":param name: The name of the parameter file\n",
       ":param backup: create a backup-copy of the file\n",
       ":param boundaryDict: the file to parse is a boundary file\n",
       ":param listDict: the file only contains a list\n",
       ":param listDictWithHeader: the file only contains a list and a header\n",
       ":param listLengthUnparsed: Lists longer than that length are not parsed\n",
       ":param binaryMode: Parse long lists in binary mode (to be overridden by\n",
       "the settings in the header).\n",
       ":param treatBinaryAsASCII: even if the header says that this is a\n",
       "binary file treat it like an ASCII-file\n",
       ":param noHeader: don't expect a header\n",
       ":param noBody: don't read the body of the file (only the header)\n",
       ":param doMacroExpansion: expand #include and $var\n",
       ":param noVectorOrTensor: short lists of length 3, 6 an 9 are NOT\n",
       "interpreted as vectors or tensors\n",
       ":param dontRead: Do not read the file during construction\n",
       ":param longListOutputThreshold: Lists that are longer than this are\n",
       "prefixed with a length\n",
       ":param dictStack: dictionary stack for lookup (only used for include)\n",
       "\u001b[0;31mFile:\u001b[0m           ~/.local/lib/python3.10/site-packages/PyFoam/RunDictionary/ParsedParameterFile.py\n",
       "\u001b[0;31mType:\u001b[0m           type\n",
       "\u001b[0;31mSubclasses:\u001b[0m     WriteParameterFile, ParsedBoundaryDict, ParsedFileHeader"
      ]
     },
     "metadata": {},
     "output_type": "display_data"
    }
   ],
   "source": [
    "ParsedParameterFile?"
   ]
  },
  {
   "cell_type": "code",
   "execution_count": 4,
   "id": "e876e21f-00bc-4edc-b51b-e0c32c92f6d3",
   "metadata": {
    "tags": []
   },
   "outputs": [
    {
     "ename": "IsADirectoryError",
     "evalue": "[Errno 21] Is a directory: '/home/kamakiri/OpenFOAM/kamakiri-v2406/run/17_gijyutusyo/004_PyFoam/sample'",
     "output_type": "error",
     "traceback": [
      "\u001b[0;31m---------------------------------------------------------------------------\u001b[0m",
      "\u001b[0;31mIsADirectoryError\u001b[0m                         Traceback (most recent call last)",
      "Cell \u001b[0;32mIn[4], line 1\u001b[0m\n\u001b[0;32m----> 1\u001b[0m f \u001b[38;5;241m=\u001b[39m \u001b[43mParsedParameterFile\u001b[49m\u001b[43m(\u001b[49m\u001b[38;5;124;43m\"\u001b[39;49m\u001b[38;5;124;43msample\u001b[39;49m\u001b[38;5;124;43m\"\u001b[39;49m\u001b[43m)\u001b[49m\n\u001b[1;32m      2\u001b[0m f\n",
      "File \u001b[0;32m~/.local/lib/python3.10/site-packages/PyFoam/RunDictionary/ParsedParameterFile.py:86\u001b[0m, in \u001b[0;36mParsedParameterFile.__init__\u001b[0;34m(self, name, backup, debug, boundaryDict, listDict, listDictWithHeader, listLengthUnparsed, preserveComments, noHeader, binaryMode, treatBinaryAsASCII, noBody, doMacroExpansion, dontRead, noVectorOrTensor, dictStack, createZipped, longListOutputThreshold)\u001b[0m\n\u001b[1;32m     83\u001b[0m \u001b[38;5;28mself\u001b[39m\u001b[38;5;241m.\u001b[39mdictStack\u001b[38;5;241m=\u001b[39mdictStack\n\u001b[1;32m     85\u001b[0m \u001b[38;5;28;01mif\u001b[39;00m \u001b[38;5;129;01mnot\u001b[39;00m dontRead:\n\u001b[0;32m---> 86\u001b[0m     \u001b[38;5;28;43mself\u001b[39;49m\u001b[38;5;241;43m.\u001b[39;49m\u001b[43mreadFile\u001b[49m\u001b[43m(\u001b[49m\u001b[43m)\u001b[49m\n",
      "File \u001b[0;32m~/.local/lib/python3.10/site-packages/PyFoam/RunDictionary/FileBasis.py:105\u001b[0m, in \u001b[0;36mFileBasis.readFile\u001b[0;34m(self)\u001b[0m\n\u001b[1;32m    103\u001b[0m \u001b[38;5;28;01mdef\u001b[39;00m \u001b[38;5;21mreadFile\u001b[39m(\u001b[38;5;28mself\u001b[39m):\n\u001b[1;32m    104\u001b[0m \u001b[38;5;250m    \u001b[39m\u001b[38;5;124;03m\"\"\" read the whole File into memory\"\"\"\u001b[39;00m\n\u001b[0;32m--> 105\u001b[0m     \u001b[38;5;28;43mself\u001b[39;49m\u001b[38;5;241;43m.\u001b[39;49m\u001b[43mopenFile\u001b[49m\u001b[43m(\u001b[49m\u001b[43m)\u001b[49m\n\u001b[1;32m    106\u001b[0m     txt\u001b[38;5;241m=\u001b[39m\u001b[38;5;28mself\u001b[39m\u001b[38;5;241m.\u001b[39mfh\u001b[38;5;241m.\u001b[39mread()\n\u001b[1;32m    107\u001b[0m     \u001b[38;5;28;01mif\u001b[39;00m PY3 \u001b[38;5;129;01mand\u001b[39;00m \u001b[38;5;28mself\u001b[39m\u001b[38;5;241m.\u001b[39mzipped:\n",
      "File \u001b[0;32m~/.local/lib/python3.10/site-packages/PyFoam/RunDictionary/FileBasis.py:93\u001b[0m, in \u001b[0;36mFileBasis.openFile\u001b[0;34m(self, keepContent, mode)\u001b[0m\n\u001b[1;32m     91\u001b[0m         \u001b[38;5;28mself\u001b[39m\u001b[38;5;241m.\u001b[39mfh\u001b[38;5;241m=\u001b[39mgzip\u001b[38;5;241m.\u001b[39mopen(\u001b[38;5;28mself\u001b[39m\u001b[38;5;241m.\u001b[39mname\u001b[38;5;241m+\u001b[39m\u001b[38;5;124m\"\u001b[39m\u001b[38;5;124m.gz\u001b[39m\u001b[38;5;124m\"\u001b[39m,mode)\n\u001b[1;32m     92\u001b[0m     \u001b[38;5;28;01melse\u001b[39;00m:\n\u001b[0;32m---> 93\u001b[0m         \u001b[38;5;28mself\u001b[39m\u001b[38;5;241m.\u001b[39mfh\u001b[38;5;241m=\u001b[39m\u001b[38;5;28;43mopen\u001b[39;49m\u001b[43m(\u001b[49m\u001b[38;5;28;43mself\u001b[39;49m\u001b[38;5;241;43m.\u001b[39;49m\u001b[43mname\u001b[49m\u001b[43m,\u001b[49m\u001b[43mmode\u001b[49m\u001b[43m)\u001b[49m\n\u001b[1;32m     94\u001b[0m \u001b[38;5;28;01melse\u001b[39;00m:\n\u001b[1;32m     95\u001b[0m     \u001b[38;5;28;01mif\u001b[39;00m mode\u001b[38;5;241m!=\u001b[39m\u001b[38;5;124m\"\u001b[39m\u001b[38;5;124mr\u001b[39m\u001b[38;5;124m\"\u001b[39m:\n",
      "\u001b[0;31mIsADirectoryError\u001b[0m: [Errno 21] Is a directory: '/home/kamakiri/OpenFOAM/kamakiri-v2406/run/17_gijyutusyo/004_PyFoam/sample'"
     ]
    }
   ],
   "source": [
    "f = ParsedParameterFile(\"sample/sampleDict\")\n",
    "f"
   ]
  },
  {
   "cell_type": "code",
   "execution_count": 7,
   "id": "d51f6127-f837-4aa5-9933-d11c58f7e5c1",
   "metadata": {},
   "outputs": [
    {
     "data": {
      "text/plain": [
       "{'val1': 1, 'val2': 2, 'dctA': {'val3': 3.0, 'lst4': '(4 5 6)'}}"
      ]
     },
     "execution_count": 7,
     "metadata": {},
     "output_type": "execute_result"
    }
   ],
   "source": [
    "f.content"
   ]
  },
  {
   "cell_type": "code",
   "execution_count": 8,
   "id": "292d735b-1b01-4347-943c-db78d24f5ac6",
   "metadata": {
    "tags": []
   },
   "outputs": [],
   "source": [
    "f[\"val1\"] = 10\n",
    "f[\"val2\"] = 20"
   ]
  },
  {
   "cell_type": "code",
   "execution_count": 9,
   "id": "e4e5dddf-ccb1-4eb6-bda0-242527ad2844",
   "metadata": {
    "tags": []
   },
   "outputs": [
    {
     "data": {
      "text/plain": [
       "{'val1': 10, 'val2': 20, 'dctA': {'val3': 3.0, 'lst4': '(4 5 6)'}}"
      ]
     },
     "execution_count": 9,
     "metadata": {},
     "output_type": "execute_result"
    }
   ],
   "source": [
    "f.content"
   ]
  },
  {
   "cell_type": "code",
   "execution_count": 13,
   "id": "a5402c39-f9bb-4a0b-873d-56908d1cf16a",
   "metadata": {},
   "outputs": [],
   "source": [
    "f.writeFile()"
   ]
  },
  {
   "cell_type": "code",
   "execution_count": 14,
   "id": "1996c5bc-59c8-4ae9-9b69-20ded6529219",
   "metadata": {},
   "outputs": [
    {
     "data": {
      "text/plain": [
       "{'val1': 10, 'val2': 20, 'dctA': {'val3': 3.0, 'lst4': '(4 5 6)'}}"
      ]
     },
     "execution_count": 14,
     "metadata": {},
     "output_type": "execute_result"
    }
   ],
   "source": [
    "f.content"
   ]
  },
  {
   "cell_type": "code",
   "execution_count": null,
   "id": "5ae3cf41-dd60-4ccb-9d40-e9464063956d",
   "metadata": {},
   "outputs": [],
   "source": []
  }
 ],
 "metadata": {
  "kernelspec": {
   "display_name": "Python 3 (ipykernel)",
   "language": "python",
   "name": "python3"
  },
  "language_info": {
   "codemirror_mode": {
    "name": "ipython",
    "version": 3
   },
   "file_extension": ".py",
   "mimetype": "text/x-python",
   "name": "python",
   "nbconvert_exporter": "python",
   "pygments_lexer": "ipython3",
   "version": "3.10.12"
  }
 },
 "nbformat": 4,
 "nbformat_minor": 5
}
