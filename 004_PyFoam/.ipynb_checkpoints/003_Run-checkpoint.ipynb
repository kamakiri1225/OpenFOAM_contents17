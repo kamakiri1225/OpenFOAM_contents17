{
 "cells": [
  {
   "cell_type": "markdown",
   "id": "5b8f6694-c498-4800-b8f5-b7167128c84e",
   "metadata": {},
   "source": [
    "# 計算を実行"
   ]
  },
  {
   "cell_type": "markdown",
   "id": "14ec4643-6682-4217-a9cb-717049cdfca6",
   "metadata": {},
   "source": [
    "必要なライブラリのインポート"
   ]
  },
  {
   "cell_type": "code",
   "execution_count": 2,
   "id": "58e3de80-a2ab-46fe-8813-d68894022342",
   "metadata": {
    "tags": []
   },
   "outputs": [],
   "source": [
    "from PyFoam.Execution.BasicRunner import BasicRunner\n",
    "from PyFoam.RunDictionary.SolutionDirectory import SolutionDirectory\n",
    "from os import getcwd, path\n",
    "import subprocess  \n",
    "import os"
   ]
  },
  {
   "cell_type": "markdown",
   "id": "95c4e35e-275c-4fb7-b779-51188050eda9",
   "metadata": {},
   "source": [
    "元ファイルをクローンします"
   ]
  },
  {
   "cell_type": "code",
   "execution_count": 9,
   "id": "7fee4f33-f54d-46f3-adf2-7474fca05322",
   "metadata": {
    "tags": []
   },
   "outputs": [],
   "source": [
    "# コピー元のケースディレクトリ\n",
    "source_case = \"pimpleFoam\"\n",
    "\n",
    "# ケースディレクトリの指定\n",
    "case_dir = \"pimpleFoam_run\"\n",
    "\n",
    "# 現在の作業ディレクトリを取得し、そこにコピー\n",
    "destination_path = path.join(getcwd(), case_dir)\n",
    "\n",
    "# SolutionDirectoryを使用してケースをコピー\n",
    "template = SolutionDirectory(source_case).cloneCase(destination_path)"
   ]
  },
  {
   "cell_type": "markdown",
   "id": "7701d5df-b467-43c6-9d6f-5345acade35f",
   "metadata": {},
   "source": [
    "## PyFoamライブラリを使った計算実行（フォアグラウンド実行）"
   ]
  },
  {
   "cell_type": "code",
   "execution_count": 10,
   "id": "4479be9f-ab00-482d-a093-2eb488c61fc9",
   "metadata": {},
   "outputs": [
    {
     "data": {
      "text/plain": [
       "\u001b[0;31mInit signature:\u001b[0m\n",
       "\u001b[0mBasicRunner\u001b[0m\u001b[0;34m(\u001b[0m\u001b[0;34m\u001b[0m\n",
       "\u001b[0;34m\u001b[0m    \u001b[0margv\u001b[0m\u001b[0;34m=\u001b[0m\u001b[0;32mNone\u001b[0m\u001b[0;34m,\u001b[0m\u001b[0;34m\u001b[0m\n",
       "\u001b[0;34m\u001b[0m    \u001b[0msilent\u001b[0m\u001b[0;34m=\u001b[0m\u001b[0;32mFalse\u001b[0m\u001b[0;34m,\u001b[0m\u001b[0;34m\u001b[0m\n",
       "\u001b[0;34m\u001b[0m    \u001b[0mlogname\u001b[0m\u001b[0;34m=\u001b[0m\u001b[0;32mNone\u001b[0m\u001b[0;34m,\u001b[0m\u001b[0;34m\u001b[0m\n",
       "\u001b[0;34m\u001b[0m    \u001b[0mcompressLog\u001b[0m\u001b[0;34m=\u001b[0m\u001b[0;32mFalse\u001b[0m\u001b[0;34m,\u001b[0m\u001b[0;34m\u001b[0m\n",
       "\u001b[0;34m\u001b[0m    \u001b[0mlam\u001b[0m\u001b[0;34m=\u001b[0m\u001b[0;32mNone\u001b[0m\u001b[0;34m,\u001b[0m\u001b[0;34m\u001b[0m\n",
       "\u001b[0;34m\u001b[0m    \u001b[0mserver\u001b[0m\u001b[0;34m=\u001b[0m\u001b[0;32mFalse\u001b[0m\u001b[0;34m,\u001b[0m\u001b[0;34m\u001b[0m\n",
       "\u001b[0;34m\u001b[0m    \u001b[0mrestart\u001b[0m\u001b[0;34m=\u001b[0m\u001b[0;32mFalse\u001b[0m\u001b[0;34m,\u001b[0m\u001b[0;34m\u001b[0m\n",
       "\u001b[0;34m\u001b[0m    \u001b[0mnoLog\u001b[0m\u001b[0;34m=\u001b[0m\u001b[0;32mFalse\u001b[0m\u001b[0;34m,\u001b[0m\u001b[0;34m\u001b[0m\n",
       "\u001b[0;34m\u001b[0m    \u001b[0mlogTail\u001b[0m\u001b[0;34m=\u001b[0m\u001b[0;32mNone\u001b[0m\u001b[0;34m,\u001b[0m\u001b[0;34m\u001b[0m\n",
       "\u001b[0;34m\u001b[0m    \u001b[0mremark\u001b[0m\u001b[0;34m=\u001b[0m\u001b[0;32mNone\u001b[0m\u001b[0;34m,\u001b[0m\u001b[0;34m\u001b[0m\n",
       "\u001b[0;34m\u001b[0m    \u001b[0mjobId\u001b[0m\u001b[0;34m=\u001b[0m\u001b[0;32mNone\u001b[0m\u001b[0;34m,\u001b[0m\u001b[0;34m\u001b[0m\n",
       "\u001b[0;34m\u001b[0m    \u001b[0mparameters\u001b[0m\u001b[0;34m=\u001b[0m\u001b[0;32mNone\u001b[0m\u001b[0;34m,\u001b[0m\u001b[0;34m\u001b[0m\n",
       "\u001b[0;34m\u001b[0m    \u001b[0mwriteState\u001b[0m\u001b[0;34m=\u001b[0m\u001b[0;32mTrue\u001b[0m\u001b[0;34m,\u001b[0m\u001b[0;34m\u001b[0m\n",
       "\u001b[0;34m\u001b[0m    \u001b[0mechoCommandLine\u001b[0m\u001b[0;34m=\u001b[0m\u001b[0;32mNone\u001b[0m\u001b[0;34m,\u001b[0m\u001b[0;34m\u001b[0m\n",
       "\u001b[0;34m\u001b[0m\u001b[0;34m)\u001b[0m\u001b[0;34m\u001b[0m\u001b[0;34m\u001b[0m\u001b[0m\n",
       "\u001b[0;31mDocstring:\u001b[0m     \n",
       "Base class for the running of commands\n",
       "\n",
       "When the command is run the output is copied to a LogFile and\n",
       "(optionally) standard-out\n",
       "\n",
       "The argument list assumes for the first three elements the\n",
       "OpenFOAM-convention:\n",
       "\n",
       "<cmd> <dir> <case>\n",
       "\n",
       "The directory name for outputs is therefor created from <dir> and\n",
       "<case>\n",
       "\n",
       "Provides some handle-methods that are to be overloaded for\n",
       "additional functionality\n",
       "\u001b[0;31mInit docstring:\u001b[0m\n",
       ":param argv: list with the tokens that are the command line\n",
       "if not set the standard command line is used\n",
       ":param silent: if True no output is sent to stdout\n",
       ":param logname: name of the logfile\n",
       ":param compressLog: Compress the logfile into a gzip\n",
       ":param lam: Information about a parallel run\n",
       ":param server: Whether or not to start the network-server\n",
       ":type lam: PyFoam.Execution.ParallelExecution.LAMMachine\n",
       ":param noLog: Don't output a log file\n",
       ":param logTail: only the last lines of the log should be written\n",
       ":param remark: User defined remark about the job\n",
       ":param parameters: User defined dictionary with parameters for\n",
       "         documentation purposes\n",
       ":param jobId: Job ID of the controlling system (Queueing system)\n",
       ":param writeState: Write the state to some files in the case\n",
       ":param echoCommandLine: Prefix that is printed with the command line. If unset nothing is printed\n",
       "\u001b[0;31mFile:\u001b[0m           ~/.local/lib/python3.10/site-packages/PyFoam/Execution/BasicRunner.py\n",
       "\u001b[0;31mType:\u001b[0m           type\n",
       "\u001b[0;31mSubclasses:\u001b[0m     "
      ]
     },
     "metadata": {},
     "output_type": "display_data"
    }
   ],
   "source": [
    "BasicRunner?"
   ]
  },
  {
   "cell_type": "code",
   "execution_count": 11,
   "id": "bb4ee15e-0e23-4f8d-9d61-f4ca7631223a",
   "metadata": {
    "tags": []
   },
   "outputs": [
    {
     "name": "stdout",
     "output_type": "stream",
     "text": [
      "/bin/sh: 1: blockMesh: not found\n",
      "/bin/sh: 1: pimpleFoam: not found\n"
     ]
    },
    {
     "data": {
      "text/plain": [
       "{'lines': 1,\n",
       " 'uniqueid': '7571a725-985f-11ef-bd01-fbea59a9686b',\n",
       " 'logfile': 'pimpleFoam_run/PyFoam.pimpleFoam.logfile',\n",
       " 'casefullname': '/home/kamakiri/OpenFOAM/kamakiri-v2406/run/17_gijyutusyo/004_PyFoam/pimpleFoam_run',\n",
       " 'casename': 'pimpleFoam_run',\n",
       " 'solver': 'pimpleFoam',\n",
       " 'solverFull': 'pimpleFoam',\n",
       " 'commandLine': 'pimpleFoam -case pimpleFoam_run',\n",
       " 'hostname': 'kamakiri',\n",
       " 'remark': 'No remark given',\n",
       " 'starttime': 'Fri Nov  1 23:42:03 2024',\n",
       " 'keyboardInterrupt': False,\n",
       " 'interrupted': False,\n",
       " 'OK': True,\n",
       " 'endSeen': False,\n",
       " 'cpuTime': 0.002986999999999999,\n",
       " 'cpuUserTime': 0.0,\n",
       " 'cpuSystemTime': 0.002986999999999999,\n",
       " 'wallTime': 0.09400582313537598,\n",
       " 'usedMemory': 0.0,\n",
       " 'endtime': 'Fri Nov  1 23:42:03 2024',\n",
       " 'fatalError': False,\n",
       " 'fatalFPE': False,\n",
       " 'fatalStackdump': False}"
      ]
     },
     "execution_count": 11,
     "metadata": {},
     "output_type": "execute_result"
    },
    {
     "name": "stderr",
     "output_type": "stream",
     "text": [
      "Exception in thread Thread-6:\n",
      "Traceback (most recent call last):\n",
      "  File \"/home/kamakiri/.local/lib/python3.10/site-packages/psutil/_pslinux.py\", line 1714, in wrapper\n",
      "    return fun(self, *args, **kwargs)\n",
      "  File \"/home/kamakiri/.local/lib/python3.10/site-packages/psutil/_common.py\", line 497, in wrapper\n",
      "    raise raise_from(err, None)\n",
      "  File \"<string>\", line 3, in raise_from\n",
      "  File \"/home/kamakiri/.local/lib/python3.10/site-packages/psutil/_common.py\", line 495, in wrapper\n",
      "    return fun(self)\n",
      "  File \"/home/kamakiri/.local/lib/python3.10/site-packages/psutil/_pslinux.py\", line 1777, in _parse_stat_file\n",
      "    data = bcat(\"%s/%s/stat\" % (self._procfs_path, self.pid))\n",
      "  File \"/home/kamakiri/.local/lib/python3.10/site-packages/psutil/_common.py\", line 840, in bcat\n",
      "    return cat(fname, fallback=fallback, _open=open_binary)\n",
      "  File \"/home/kamakiri/.local/lib/python3.10/site-packages/psutil/_common.py\", line 828, in cat\n",
      "    with _open(fname) as f:\n",
      "  File \"/home/kamakiri/.local/lib/python3.10/site-packages/psutil/_common.py\", line 788, in open_binary\n",
      "    return open(fname, \"rb\", buffering=FILE_READ_BUFFER_SIZE)\n",
      "FileNotFoundError: [Errno 2] No such file or directory: '/proc/288822/stat'\n",
      "\n",
      "During handling of the above exception, another exception occurred:\n",
      "\n",
      "Traceback (most recent call last):\n",
      "  File \"/home/kamakiri/.local/lib/python3.10/site-packages/psutil/__init__.py\", line 359, in _init\n",
      "    self.create_time()\n",
      "  File \"/home/kamakiri/.local/lib/python3.10/site-packages/psutil/__init__.py\", line 752, in create_time\n",
      "    self._create_time = self._proc.create_time()\n",
      "  File \"/home/kamakiri/.local/lib/python3.10/site-packages/psutil/_pslinux.py\", line 1714, in wrapper\n",
      "    return fun(self, *args, **kwargs)\n",
      "  File \"/home/kamakiri/.local/lib/python3.10/site-packages/psutil/_pslinux.py\", line 1945, in create_time\n",
      "    ctime = float(self._parse_stat_file()['create_time'])\n",
      "  File \"/home/kamakiri/.local/lib/python3.10/site-packages/psutil/_pslinux.py\", line 1723, in wrapper\n",
      "    raise NoSuchProcess(self.pid, self._name)\n",
      "psutil.NoSuchProcess: process no longer exists (pid=288822)\n",
      "\n",
      "During handling of the above exception, another exception occurred:\n",
      "\n",
      "Traceback (most recent call last):\n",
      "  File \"/usr/lib/python3.10/threading.py\", line 1016, in _bootstrap_inner\n",
      "    self.run()\n",
      "  File \"/usr/lib/python3.10/threading.py\", line 1378, in run\n",
      "    self.function(*self.args, **self.kwargs)\n",
      "  File \"/home/kamakiri/.local/lib/python3.10/site-packages/PyFoam/Execution/FoamThread.py\", line 86, in getLinuxMem\n",
      "    me=psutil.Process(thrd.threadPid)\n",
      "  File \"/home/kamakiri/.local/lib/python3.10/site-packages/psutil/__init__.py\", line 323, in __init__\n",
      "    self._init(pid)\n",
      "  File \"/home/kamakiri/.local/lib/python3.10/site-packages/psutil/__init__.py\", line 372, in _init\n",
      "    raise NoSuchProcess(pid, msg=msg)\n",
      "psutil.NoSuchProcess: process PID not found (pid=288822)\n",
      "Exception in thread Thread-9:\n",
      "Traceback (most recent call last):\n",
      "  File \"/home/kamakiri/.local/lib/python3.10/site-packages/psutil/_pslinux.py\", line 1714, in wrapper\n",
      "    return fun(self, *args, **kwargs)\n",
      "  File \"/home/kamakiri/.local/lib/python3.10/site-packages/psutil/_common.py\", line 497, in wrapper\n",
      "    raise raise_from(err, None)\n",
      "  File \"<string>\", line 3, in raise_from\n",
      "  File \"/home/kamakiri/.local/lib/python3.10/site-packages/psutil/_common.py\", line 495, in wrapper\n",
      "    return fun(self)\n",
      "  File \"/home/kamakiri/.local/lib/python3.10/site-packages/psutil/_pslinux.py\", line 1777, in _parse_stat_file\n",
      "    data = bcat(\"%s/%s/stat\" % (self._procfs_path, self.pid))\n",
      "  File \"/home/kamakiri/.local/lib/python3.10/site-packages/psutil/_common.py\", line 840, in bcat\n",
      "    return cat(fname, fallback=fallback, _open=open_binary)\n",
      "  File \"/home/kamakiri/.local/lib/python3.10/site-packages/psutil/_common.py\", line 828, in cat\n",
      "    with _open(fname) as f:\n",
      "  File \"/home/kamakiri/.local/lib/python3.10/site-packages/psutil/_common.py\", line 788, in open_binary\n",
      "    return open(fname, \"rb\", buffering=FILE_READ_BUFFER_SIZE)\n",
      "FileNotFoundError: [Errno 2] No such file or directory: '/proc/288826/stat'\n",
      "\n",
      "During handling of the above exception, another exception occurred:\n",
      "\n",
      "Traceback (most recent call last):\n",
      "  File \"/home/kamakiri/.local/lib/python3.10/site-packages/psutil/__init__.py\", line 359, in _init\n",
      "    self.create_time()\n",
      "  File \"/home/kamakiri/.local/lib/python3.10/site-packages/psutil/__init__.py\", line 752, in create_time\n",
      "    self._create_time = self._proc.create_time()\n",
      "  File \"/home/kamakiri/.local/lib/python3.10/site-packages/psutil/_pslinux.py\", line 1714, in wrapper\n",
      "    return fun(self, *args, **kwargs)\n",
      "  File \"/home/kamakiri/.local/lib/python3.10/site-packages/psutil/_pslinux.py\", line 1945, in create_time\n",
      "    ctime = float(self._parse_stat_file()['create_time'])\n",
      "  File \"/home/kamakiri/.local/lib/python3.10/site-packages/psutil/_pslinux.py\", line 1723, in wrapper\n",
      "    raise NoSuchProcess(self.pid, self._name)\n",
      "psutil.NoSuchProcess: process no longer exists (pid=288826)\n",
      "\n",
      "During handling of the above exception, another exception occurred:\n",
      "\n",
      "Traceback (most recent call last):\n",
      "  File \"/usr/lib/python3.10/threading.py\", line 1016, in _bootstrap_inner\n",
      "    self.run()\n",
      "  File \"/usr/lib/python3.10/threading.py\", line 1378, in run\n",
      "    self.function(*self.args, **self.kwargs)\n",
      "  File \"/home/kamakiri/.local/lib/python3.10/site-packages/PyFoam/Execution/FoamThread.py\", line 86, in getLinuxMem\n",
      "    me=psutil.Process(thrd.threadPid)\n",
      "  File \"/home/kamakiri/.local/lib/python3.10/site-packages/psutil/__init__.py\", line 323, in __init__\n",
      "    self._init(pid)\n",
      "  File \"/home/kamakiri/.local/lib/python3.10/site-packages/psutil/__init__.py\", line 372, in _init\n",
      "    raise NoSuchProcess(pid, msg=msg)\n",
      "psutil.NoSuchProcess: process PID not found (pid=288826)\n"
     ]
    }
   ],
   "source": [
    "# blockMeshの実行\n",
    "block_mesh_runner = BasicRunner(argv=[\"blockMesh\", \"-case\", case_dir])\n",
    "block_mesh_runner.start()\n",
    "\n",
    "# pimpleFoamの実行\n",
    "pimpleFoam_runner = BasicRunner(argv=[\"pimpleFoam\", \"-case\", case_dir])\n",
    "pimpleFoam_runner.start()"
   ]
  },
  {
   "cell_type": "markdown",
   "id": "bfcfb90d-76a8-410c-a2b1-93c3db56177c",
   "metadata": {},
   "source": [
    "## Allrunの実行（フォアグラウンド実行）"
   ]
  },
  {
   "cell_type": "code",
   "execution_count": 6,
   "id": "86b450ac-f7fd-4e11-ac9c-81911f2f13fc",
   "metadata": {
    "tags": []
   },
   "outputs": [],
   "source": [
    "# Allrunをバックグラウンドで実行し、ログを非表示にする\n",
    "def run_allrun(case_dir):\n",
    "    with open(os.devnull, 'w') as devnull:\n",
    "        subprocess.run([f'{os.getcwd()}/{case_dir}/Allrun'], cwd=case_dir, stdout=devnull, stderr=devnull)\n",
    "\n",
    "# コピー先のディレクトリ\n",
    "case_dir = 'pimpleFoam_run'\n",
    "\n",
    "# Allrunを実行\n",
    "run_allrun(case_dir)"
   ]
  },
  {
   "cell_type": "markdown",
   "id": "2f9ba4d2-26a0-4b14-bccd-b53d77a64598",
   "metadata": {},
   "source": [
    "## PyFoamによる計算実行（バックグラウンド）"
   ]
  },
  {
   "cell_type": "code",
   "execution_count": 24,
   "id": "2c227c14-4547-478a-8747-f4dfb5b48c37",
   "metadata": {
    "tags": []
   },
   "outputs": [
    {
     "name": "stdout",
     "output_type": "stream",
     "text": [
      "Allrunをバックグラウンドで実行中...\n"
     ]
    }
   ],
   "source": [
    "from PyFoam.Execution.BasicRunner import BasicRunner\n",
    "from PyFoam.RunDictionary.SolutionDirectory import SolutionDirectory\n",
    "import subprocess\n",
    "import os\n",
    "import shutil\n",
    "import threading #add\n",
    "\n",
    "# コピー先のディレクトリ\n",
    "case_dir = 'pimpleFoam_runBackground'\n",
    "\n",
    "# チュートリアルケースをコピー\n",
    "template.cloneCase(path.join(getcwd(), case_dir))\n",
    "\n",
    "# Allrunをバックグラウンドで実行し、ログを非表示にする\n",
    "def run_allrun(case_dir):\n",
    "    # blockMeshの実行\n",
    "    block_mesh_runner = BasicRunner(argv=[\"blockMesh\", \"-case\", case_dir], silent=True, logname= \"blockMesh\")\n",
    "    block_mesh_runner.start()\n",
    "\n",
    "    # pimpleFoamの実行\n",
    "    pimpleFoam_runner = BasicRunner(argv=[\"pimpleFoam\", \"-case\", case_dir], silent=True, logname=\"pimpleFoam\")\n",
    "    pimpleFoam_runner.start()\n",
    "\n",
    "# スレッドを作成してAllrunをバックグラウンドで実行\n",
    "allrun_thread = threading.Thread(target=run_allrun, args=(case_dir,))\n",
    "allrun_thread.start()\n",
    "\n",
    "# 他の操作を続ける\n",
    "print(\"Allrunをバックグラウンドで実行中...\")\n",
    "\n",
    "# 必要に応じてスレッドの終了を待つ\n",
    "# allrun_thread.join()"
   ]
  },
  {
   "cell_type": "code",
   "execution_count": 25,
   "id": "6d33263c-7467-455b-85f3-9aebc7d18219",
   "metadata": {
    "tags": []
   },
   "outputs": [
    {
     "name": "stdout",
     "output_type": "stream",
     "text": [
      "test\n"
     ]
    }
   ],
   "source": [
    "print(\"test\")"
   ]
  },
  {
   "cell_type": "markdown",
   "id": "14fc3c7f-ea25-4dcb-ab07-aa00c1343e33",
   "metadata": {},
   "source": [
    "## Allrun実行（バックグラウンド）"
   ]
  },
  {
   "cell_type": "code",
   "execution_count": 30,
   "id": "371da2d6-5bb1-43fb-9163-5ac3c3aec0af",
   "metadata": {
    "tags": []
   },
   "outputs": [
    {
     "name": "stdout",
     "output_type": "stream",
     "text": [
      "<PyFoam.RunDictionary.SolutionDirectory.SolutionDirectory object at 0x7f0fac247250>\n",
      "Allrunをバックグラウンドで実行中...\n"
     ]
    }
   ],
   "source": [
    "from PyFoam.RunDictionary.SolutionDirectory import SolutionDirectory\n",
    "import subprocess\n",
    "import os\n",
    "import shutil\n",
    "import threading #add\n",
    "\n",
    "# コピー先のディレクトリ\n",
    "case_dir = 'pimpleFoam_runBackground'\n",
    "\n",
    "# 結果を表示\n",
    "print(template)\n",
    "\n",
    "# Allrunをバックグラウンドで実行し、ログを非表示にする\n",
    "def run_allrun(case_dir):\n",
    "    with open(os.devnull, 'w') as devnull:\n",
    "        subprocess.run([f'{os.getcwd()}/{case_dir}/Allrun'], cwd=case_dir, stdout=devnull, stderr=devnull)\n",
    "\n",
    "# スレッドを作成してAllrunをバックグラウンドで実行\n",
    "allrun_thread = threading.Thread(target=run_allrun, args=(case_dir,))\n",
    "allrun_thread.start()\n",
    "\n",
    "# 他の操作を続ける\n",
    "print(\"Allrunをバックグラウンドで実行中...\")\n",
    "\n",
    "# 必要に応じてスレッドの終了を待つ\n",
    "# allrun_thread.join()"
   ]
  },
  {
   "cell_type": "code",
   "execution_count": 31,
   "id": "0d820417-a89f-4085-bc87-7a265f47519e",
   "metadata": {
    "tags": []
   },
   "outputs": [
    {
     "name": "stdout",
     "output_type": "stream",
     "text": [
      "test\n"
     ]
    }
   ],
   "source": [
    "print(\"test\")"
   ]
  },
  {
   "cell_type": "code",
   "execution_count": 28,
   "id": "2f5b1d09-11ca-4ee3-b9b5-6b93065cb0e1",
   "metadata": {
    "tags": []
   },
   "outputs": [
    {
     "name": "stdout",
     "output_type": "stream",
     "text": [
      "#!/bin/bash\n",
      "\n",
      "# Clean the case\n",
      "foamCleanTutorials\n",
      "\n",
      "# Generate the mesh\n",
      "blockMesh\n",
      "\n",
      "# Run the solver\n",
      "pimpleFoam\n",
      "\n",
      "# Post-processing (optional)\n",
      "# e.g., reconstructPar, foamToVTK, etc.\n",
      "\n",
      "# Notify the user\n",
      "echo \"Simulation completed.\""
     ]
    }
   ],
   "source": [
    "!cat pimpleFoam_runBackground/Allrun"
   ]
  },
  {
   "cell_type": "code",
   "execution_count": null,
   "id": "172add7a-6d78-4145-99dc-2e193286cf04",
   "metadata": {},
   "outputs": [],
   "source": []
  }
 ],
 "metadata": {
  "kernelspec": {
   "display_name": "Python 3 (ipykernel)",
   "language": "python",
   "name": "python3"
  },
  "language_info": {
   "codemirror_mode": {
    "name": "ipython",
    "version": 3
   },
   "file_extension": ".py",
   "mimetype": "text/x-python",
   "name": "python",
   "nbconvert_exporter": "python",
   "pygments_lexer": "ipython3",
   "version": "3.10.12"
  }
 },
 "nbformat": 4,
 "nbformat_minor": 5
}
