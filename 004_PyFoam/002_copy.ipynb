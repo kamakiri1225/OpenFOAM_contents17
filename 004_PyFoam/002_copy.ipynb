{
 "cells": [
  {
   "cell_type": "markdown",
   "id": "3bfc24b7-3f15-4c72-bb67-6027d162f889",
   "metadata": {},
   "source": [
    "# チュートリアルからクローン"
   ]
  },
  {
   "cell_type": "markdown",
   "id": "680baa50-6c1a-47e4-a686-8964d2635df5",
   "metadata": {},
   "source": [
    "必要なライブラリをインポート"
   ]
  },
  {
   "cell_type": "code",
   "execution_count": 1,
   "id": "4b3e48a6-96d9-466d-a533-48a7def367a2",
   "metadata": {
    "tags": []
   },
   "outputs": [],
   "source": [
    "from os import getcwd, path\n",
    "import os\n",
    "import shutil\n",
    "from PyFoam.RunDictionary.SolutionDirectory import SolutionDirectory"
   ]
  },
  {
   "cell_type": "markdown",
   "id": "46c5ba5a-69af-4cd9-b638-6a545afdd780",
   "metadata": {},
   "source": [
    "## PyFoamライブラリを使用する方法"
   ]
  },
  {
   "cell_type": "markdown",
   "id": "938f5deb-d195-4d69-8f2f-68efef037c98",
   "metadata": {},
   "source": [
    "SolutionDirectoryのcloneCase関数を使った例を示します。"
   ]
  },
  {
   "cell_type": "code",
   "execution_count": 2,
   "id": "698a33ad-7dcc-4ec6-9bc8-150f8bd20aaf",
   "metadata": {
    "tags": []
   },
   "outputs": [
    {
     "data": {
      "text/plain": [
       "<PyFoam.RunDictionary.SolutionDirectory.SolutionDirectory at 0x7f023969fbe0>"
      ]
     },
     "execution_count": 2,
     "metadata": {},
     "output_type": "execute_result"
    }
   ],
   "source": [
    "# コピー元のケースディレクトリ\n",
    "source_case = \"pimpleFoam\"\n",
    "\n",
    "# コピー先のファイル名\n",
    "fileName = \"pimpleFoam_cloneCase\"\n",
    "\n",
    "# 現在の作業ディレクトリを取得し、そこにコピー\n",
    "destination_path = path.join(getcwd(), fileName)\n",
    "\n",
    "# SolutionDirectoryを使用してケースをコピー\n",
    "template = SolutionDirectory(source_case).cloneCase(destination_path)\n",
    "\n",
    "template"
   ]
  },
  {
   "cell_type": "code",
   "execution_count": 3,
   "id": "5a85ed1a-fab8-43dc-8f2a-aeecd0928650",
   "metadata": {
    "tags": []
   },
   "outputs": [
    {
     "data": {
      "text/plain": [
       "'/home/kamakiri/OpenFOAM/kamakiri-v2406/run/17_gijyutusyo/004_PyFoam/pimpleFoam_cloneCase'"
      ]
     },
     "execution_count": 3,
     "metadata": {},
     "output_type": "execute_result"
    }
   ],
   "source": [
    "template.name"
   ]
  },
  {
   "cell_type": "code",
   "execution_count": 4,
   "id": "95c1574c-1628-4007-9124-f30a602e3d54",
   "metadata": {
    "tags": []
   },
   "outputs": [
    {
     "data": {
      "text/plain": [
       "<bound method SolutionDirectory.clearResults of <PyFoam.RunDictionary.SolutionDirectory.SolutionDirectory object at 0x7f023969fbe0>>"
      ]
     },
     "execution_count": 4,
     "metadata": {},
     "output_type": "execute_result"
    }
   ],
   "source": [
    "template.clearResults"
   ]
  },
  {
   "cell_type": "markdown",
   "id": "30afdf69-cd05-4300-99ef-2caa3a7ce31f",
   "metadata": {},
   "source": [
    "その他にもさまざまな関数が用意されている"
   ]
  },
  {
   "cell_type": "markdown",
   "id": "8e8a178a-0d7d-42f1-909b-47e7932214c0",
   "metadata": {},
   "source": [
    "## Pythonの標準ライブラリを使用する方法"
   ]
  },
  {
   "cell_type": "code",
   "execution_count": 5,
   "id": "bda9ba1a-02a7-48e8-8a9b-73e80b1d69aa",
   "metadata": {
    "tags": []
   },
   "outputs": [],
   "source": [
    "# コピーする関数\n",
    "def copy_tutorial_case(source_case, destination):\n",
    "    # shutilを使用してディレクトリをコピー\n",
    "    shutil.copytree(source_case, destination)"
   ]
  },
  {
   "cell_type": "code",
   "execution_count": 6,
   "id": "88328b9c-1c39-4921-8e75-cccfddd51e31",
   "metadata": {
    "tags": []
   },
   "outputs": [],
   "source": [
    "# コピー元のケースディレクトリ\n",
    "source_case = \"pimpleFoam\"\n",
    "\n",
    "fileName = \"pimpleFoam_copy\"\n",
    "\n",
    "copy_tutorial_case(source_case, fileName)"
   ]
  },
  {
   "cell_type": "code",
   "execution_count": null,
   "id": "219b5d8d-82b3-46a0-8a4c-c564c62cf811",
   "metadata": {},
   "outputs": [],
   "source": []
  }
 ],
 "metadata": {
  "kernelspec": {
   "display_name": "Python 3 (ipykernel)",
   "language": "python",
   "name": "python3"
  },
  "language_info": {
   "codemirror_mode": {
    "name": "ipython",
    "version": 3
   },
   "file_extension": ".py",
   "mimetype": "text/x-python",
   "name": "python",
   "nbconvert_exporter": "python",
   "pygments_lexer": "ipython3",
   "version": "3.10.12"
  }
 },
 "nbformat": 4,
 "nbformat_minor": 5
}
