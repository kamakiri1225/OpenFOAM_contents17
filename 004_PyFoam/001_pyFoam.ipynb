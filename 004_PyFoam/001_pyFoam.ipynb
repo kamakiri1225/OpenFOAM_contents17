{
 "cells": [
  {
   "cell_type": "markdown",
   "id": "81b6a1e7-dba9-4363-9f31-c285241129ec",
   "metadata": {},
   "source": [
    "# OpenFOAMのファイルの書き換え"
   ]
  },
  {
   "cell_type": "markdown",
   "id": "4ddd73ce-301e-4403-9b82-fcad48099124",
   "metadata": {},
   "source": [
    "必要なライブラリのインポート"
   ]
  },
  {
   "cell_type": "code",
   "execution_count": 1,
   "id": "08a84cd0-0541-4bc3-b9ec-f4581eff65cf",
   "metadata": {
    "tags": []
   },
   "outputs": [],
   "source": [
    "from PyFoam.RunDictionary.ParsedParameterFile import ParsedParameterFile"
   ]
  },
  {
   "cell_type": "markdown",
   "id": "a2fa250d-fd26-419e-9bea-bf6ed5ee1c6a",
   "metadata": {},
   "source": [
    "どのような引数を取るのかを確認するには?を後ろにつけます。\n",
    "\n",
    "そのオブジェクトや関数、クラスに関するヘルプ情報を表示することができます。\n",
    "\n",
    "具体的には、そのオブジェクトがどのようなものであるか、どのようなメソッドや属性を持っているか、どんなドキュメントがあるかを調べるのに使います。"
   ]
  },
  {
   "cell_type": "code",
   "execution_count": 2,
   "id": "d19d9d2f-8f4c-4459-8dd7-17919fc875ca",
   "metadata": {
    "tags": []
   },
   "outputs": [
    {
     "data": {
      "text/plain": [
       "\u001b[0;31mInit signature:\u001b[0m\n",
       "\u001b[0mParsedParameterFile\u001b[0m\u001b[0;34m(\u001b[0m\u001b[0;34m\u001b[0m\n",
       "\u001b[0;34m\u001b[0m    \u001b[0mname\u001b[0m\u001b[0;34m,\u001b[0m\u001b[0;34m\u001b[0m\n",
       "\u001b[0;34m\u001b[0m    \u001b[0mbackup\u001b[0m\u001b[0;34m=\u001b[0m\u001b[0;32mFalse\u001b[0m\u001b[0;34m,\u001b[0m\u001b[0;34m\u001b[0m\n",
       "\u001b[0;34m\u001b[0m    \u001b[0mdebug\u001b[0m\u001b[0;34m=\u001b[0m\u001b[0;32mFalse\u001b[0m\u001b[0;34m,\u001b[0m\u001b[0;34m\u001b[0m\n",
       "\u001b[0;34m\u001b[0m    \u001b[0mboundaryDict\u001b[0m\u001b[0;34m=\u001b[0m\u001b[0;32mFalse\u001b[0m\u001b[0;34m,\u001b[0m\u001b[0;34m\u001b[0m\n",
       "\u001b[0;34m\u001b[0m    \u001b[0mlistDict\u001b[0m\u001b[0;34m=\u001b[0m\u001b[0;32mFalse\u001b[0m\u001b[0;34m,\u001b[0m\u001b[0;34m\u001b[0m\n",
       "\u001b[0;34m\u001b[0m    \u001b[0mlistDictWithHeader\u001b[0m\u001b[0;34m=\u001b[0m\u001b[0;32mFalse\u001b[0m\u001b[0;34m,\u001b[0m\u001b[0;34m\u001b[0m\n",
       "\u001b[0;34m\u001b[0m    \u001b[0mlistLengthUnparsed\u001b[0m\u001b[0;34m=\u001b[0m\u001b[0;32mNone\u001b[0m\u001b[0;34m,\u001b[0m\u001b[0;34m\u001b[0m\n",
       "\u001b[0;34m\u001b[0m    \u001b[0mpreserveComments\u001b[0m\u001b[0;34m=\u001b[0m\u001b[0;32mTrue\u001b[0m\u001b[0;34m,\u001b[0m\u001b[0;34m\u001b[0m\n",
       "\u001b[0;34m\u001b[0m    \u001b[0mnoHeader\u001b[0m\u001b[0;34m=\u001b[0m\u001b[0;32mFalse\u001b[0m\u001b[0;34m,\u001b[0m\u001b[0;34m\u001b[0m\n",
       "\u001b[0;34m\u001b[0m    \u001b[0mbinaryMode\u001b[0m\u001b[0;34m=\u001b[0m\u001b[0;32mFalse\u001b[0m\u001b[0;34m,\u001b[0m\u001b[0;34m\u001b[0m\n",
       "\u001b[0;34m\u001b[0m    \u001b[0mtreatBinaryAsASCII\u001b[0m\u001b[0;34m=\u001b[0m\u001b[0;32mFalse\u001b[0m\u001b[0;34m,\u001b[0m\u001b[0;34m\u001b[0m\n",
       "\u001b[0;34m\u001b[0m    \u001b[0mnoBody\u001b[0m\u001b[0;34m=\u001b[0m\u001b[0;32mFalse\u001b[0m\u001b[0;34m,\u001b[0m\u001b[0;34m\u001b[0m\n",
       "\u001b[0;34m\u001b[0m    \u001b[0mdoMacroExpansion\u001b[0m\u001b[0;34m=\u001b[0m\u001b[0;32mFalse\u001b[0m\u001b[0;34m,\u001b[0m\u001b[0;34m\u001b[0m\n",
       "\u001b[0;34m\u001b[0m    \u001b[0mdontRead\u001b[0m\u001b[0;34m=\u001b[0m\u001b[0;32mFalse\u001b[0m\u001b[0;34m,\u001b[0m\u001b[0;34m\u001b[0m\n",
       "\u001b[0;34m\u001b[0m    \u001b[0mnoVectorOrTensor\u001b[0m\u001b[0;34m=\u001b[0m\u001b[0;32mFalse\u001b[0m\u001b[0;34m,\u001b[0m\u001b[0;34m\u001b[0m\n",
       "\u001b[0;34m\u001b[0m    \u001b[0mdictStack\u001b[0m\u001b[0;34m=\u001b[0m\u001b[0;32mNone\u001b[0m\u001b[0;34m,\u001b[0m\u001b[0;34m\u001b[0m\n",
       "\u001b[0;34m\u001b[0m    \u001b[0mcreateZipped\u001b[0m\u001b[0;34m=\u001b[0m\u001b[0;32mTrue\u001b[0m\u001b[0;34m,\u001b[0m\u001b[0;34m\u001b[0m\n",
       "\u001b[0;34m\u001b[0m    \u001b[0mlongListOutputThreshold\u001b[0m\u001b[0;34m=\u001b[0m\u001b[0;36m20\u001b[0m\u001b[0;34m,\u001b[0m\u001b[0;34m\u001b[0m\n",
       "\u001b[0;34m\u001b[0m\u001b[0;34m)\u001b[0m\u001b[0;34m\u001b[0m\u001b[0;34m\u001b[0m\u001b[0m\n",
       "\u001b[0;31mDocstring:\u001b[0m     \n",
       "Parameterfile whose complete representation is read into\n",
       "memory, can be manipulated and afterwards written to disk\n",
       "\u001b[0;31mInit docstring:\u001b[0m\n",
       ":param name: The name of the parameter file\n",
       ":param backup: create a backup-copy of the file\n",
       ":param boundaryDict: the file to parse is a boundary file\n",
       ":param listDict: the file only contains a list\n",
       ":param listDictWithHeader: the file only contains a list and a header\n",
       ":param listLengthUnparsed: Lists longer than that length are not parsed\n",
       ":param binaryMode: Parse long lists in binary mode (to be overridden by\n",
       "the settings in the header).\n",
       ":param treatBinaryAsASCII: even if the header says that this is a\n",
       "binary file treat it like an ASCII-file\n",
       ":param noHeader: don't expect a header\n",
       ":param noBody: don't read the body of the file (only the header)\n",
       ":param doMacroExpansion: expand #include and $var\n",
       ":param noVectorOrTensor: short lists of length 3, 6 an 9 are NOT\n",
       "interpreted as vectors or tensors\n",
       ":param dontRead: Do not read the file during construction\n",
       ":param longListOutputThreshold: Lists that are longer than this are\n",
       "prefixed with a length\n",
       ":param dictStack: dictionary stack for lookup (only used for include)\n",
       "\u001b[0;31mFile:\u001b[0m           ~/.local/lib/python3.10/site-packages/PyFoam/RunDictionary/ParsedParameterFile.py\n",
       "\u001b[0;31mType:\u001b[0m           type\n",
       "\u001b[0;31mSubclasses:\u001b[0m     WriteParameterFile, ParsedBoundaryDict, ParsedFileHeader"
      ]
     },
     "metadata": {},
     "output_type": "display_data"
    }
   ],
   "source": [
    "ParsedParameterFile?"
   ]
  },
  {
   "cell_type": "code",
   "execution_count": 5,
   "id": "e876e21f-00bc-4edc-b51b-e0c32c92f6d3",
   "metadata": {
    "tags": []
   },
   "outputs": [
    {
     "data": {
      "text/plain": [
       "<PyFoam.RunDictionary.ParsedParameterFile.ParsedParameterFile at 0x7fa6416af220>"
      ]
     },
     "execution_count": 5,
     "metadata": {},
     "output_type": "execute_result"
    }
   ],
   "source": [
    "f = ParsedParameterFile(\"sample/sampleDict\")\n",
    "f"
   ]
  },
  {
   "cell_type": "code",
   "execution_count": 7,
   "id": "d51f6127-f837-4aa5-9933-d11c58f7e5c1",
   "metadata": {},
   "outputs": [
    {
     "data": {
      "text/plain": [
       "{'val1': 1, 'val2': 2, 'dctA': {'val3': 3.0, 'lst4': '(4 5 6)'}}"
      ]
     },
     "execution_count": 7,
     "metadata": {},
     "output_type": "execute_result"
    }
   ],
   "source": [
    "f.content"
   ]
  },
  {
   "cell_type": "code",
   "execution_count": 6,
   "id": "292d735b-1b01-4347-943c-db78d24f5ac6",
   "metadata": {
    "tags": []
   },
   "outputs": [],
   "source": [
    "f[\"val1\"] = 10\n",
    "f[\"dctA\"][\"val3\"] = 20"
   ]
  },
  {
   "cell_type": "code",
   "execution_count": 7,
   "id": "e4e5dddf-ccb1-4eb6-bda0-242527ad2844",
   "metadata": {
    "tags": []
   },
   "outputs": [
    {
     "data": {
      "text/plain": [
       "{'val1': 10, 'val2': 20, 'dctA': {'val3': 20, 'lst4': '(4 5 6)'}}"
      ]
     },
     "execution_count": 7,
     "metadata": {},
     "output_type": "execute_result"
    }
   ],
   "source": [
    "f.content"
   ]
  },
  {
   "cell_type": "code",
   "execution_count": 8,
   "id": "a5402c39-f9bb-4a0b-873d-56908d1cf16a",
   "metadata": {},
   "outputs": [],
   "source": [
    "f.writeFile()"
   ]
  },
  {
   "cell_type": "code",
   "execution_count": 9,
   "id": "1996c5bc-59c8-4ae9-9b69-20ded6529219",
   "metadata": {},
   "outputs": [
    {
     "data": {
      "text/plain": [
       "{'val1': 10, 'val2': 20, 'dctA': {'val3': 20, 'lst4': '(4 5 6)'}}"
      ]
     },
     "execution_count": 9,
     "metadata": {},
     "output_type": "execute_result"
    }
   ],
   "source": [
    "f.content"
   ]
  },
  {
   "cell_type": "code",
   "execution_count": null,
   "id": "5ae3cf41-dd60-4ccb-9d40-e9464063956d",
   "metadata": {},
   "outputs": [],
   "source": []
  }
 ],
 "metadata": {
  "kernelspec": {
   "display_name": "Python 3 (ipykernel)",
   "language": "python",
   "name": "python3"
  },
  "language_info": {
   "codemirror_mode": {
    "name": "ipython",
    "version": 3
   },
   "file_extension": ".py",
   "mimetype": "text/x-python",
   "name": "python",
   "nbconvert_exporter": "python",
   "pygments_lexer": "ipython3",
   "version": "3.10.12"
  }
 },
 "nbformat": 4,
 "nbformat_minor": 5
}
